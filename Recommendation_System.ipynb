{
 "cells": [
  {
   "cell_type": "markdown",
   "metadata": {},
   "source": [
    "# Building Recommendation System"
   ]
  },
  {
   "cell_type": "code",
   "execution_count": null,
   "metadata": {},
   "outputs": [],
   "source": [
    "!pip install rake_nltk"
   ]
  },
  {
   "cell_type": "code",
   "execution_count": 29,
   "metadata": {},
   "outputs": [],
   "source": [
    "import pandas as pd\n",
    "from rake_nltk import Rake\n",
    "import numpy as np\n",
    "from sklearn.metrics.pairwise import cosine_similarity\n",
    "from sklearn.feature_extraction.text import CountVectorizer"
   ]
  },
  {
   "cell_type": "markdown",
   "metadata": {},
   "source": [
    "#### Importing dataset"
   ]
  },
  {
   "cell_type": "code",
   "execution_count": 30,
   "metadata": {},
   "outputs": [
    {
     "data": {
      "text/html": [
       "<div>\n",
       "<style scoped>\n",
       "    .dataframe tbody tr th:only-of-type {\n",
       "        vertical-align: middle;\n",
       "    }\n",
       "\n",
       "    .dataframe tbody tr th {\n",
       "        vertical-align: top;\n",
       "    }\n",
       "\n",
       "    .dataframe thead th {\n",
       "        text-align: right;\n",
       "    }\n",
       "</style>\n",
       "<table border=\"1\" class=\"dataframe\">\n",
       "  <thead>\n",
       "    <tr style=\"text-align: right;\">\n",
       "      <th></th>\n",
       "      <th>ProductId</th>\n",
       "      <th>Title</th>\n",
       "      <th>Image URL</th>\n",
       "      <th>Division</th>\n",
       "      <th>Category</th>\n",
       "      <th>Sub category</th>\n",
       "      <th>Article type</th>\n",
       "      <th>Offer price</th>\n",
       "      <th>Sale price</th>\n",
       "      <th>Color</th>\n",
       "      <th>Gender</th>\n",
       "    </tr>\n",
       "  </thead>\n",
       "  <tbody>\n",
       "    <tr>\n",
       "      <th>0</th>\n",
       "      <td>E8AC41D107EA5DBB5DF561A684899B38</td>\n",
       "      <td>Color Dose Pearls Bronze 59 Nail Polish</td>\n",
       "      <td>https://media6.ppl-media.com/tr:h-750,w-750,c-...</td>\n",
       "      <td>Makeup</td>\n",
       "      <td>Nails</td>\n",
       "      <td>Nail Polish</td>\n",
       "      <td>Nail Polish</td>\n",
       "      <td>59</td>\n",
       "      <td>59</td>\n",
       "      <td>Color Dose</td>\n",
       "      <td>women</td>\n",
       "    </tr>\n",
       "    <tr>\n",
       "      <th>1</th>\n",
       "      <td>04AE770377AABCCBCCDD5FBC93CC83E1</td>\n",
       "      <td>Rimmel Space Dust Nail Polish - Luna Love #004</td>\n",
       "      <td>https://media6.ppl-media.com/tr:h-750,w-750,c-...</td>\n",
       "      <td>Makeup</td>\n",
       "      <td>Nails</td>\n",
       "      <td>Nail Polish</td>\n",
       "      <td>Nail Polish</td>\n",
       "      <td>310</td>\n",
       "      <td>310</td>\n",
       "      <td>Rimmel</td>\n",
       "      <td>women</td>\n",
       "    </tr>\n",
       "    <tr>\n",
       "      <th>2</th>\n",
       "      <td>21B0CF144B3CFFDDCCE4937C7731A7CE</td>\n",
       "      <td>Color Dose Pearls Copper Rust 58 Nail Polish</td>\n",
       "      <td>https://media6.ppl-media.com/tr:h-750,w-750,c-...</td>\n",
       "      <td>Makeup</td>\n",
       "      <td>Nails</td>\n",
       "      <td>Nail Polish</td>\n",
       "      <td>Nail Polish</td>\n",
       "      <td>59</td>\n",
       "      <td>59</td>\n",
       "      <td>Color Dose</td>\n",
       "      <td>women</td>\n",
       "    </tr>\n",
       "    <tr>\n",
       "      <th>3</th>\n",
       "      <td>129CE0C7596D2D346E5CDC54E55A3A67</td>\n",
       "      <td>Color Dose Matt Nude 25 Nail Polish</td>\n",
       "      <td>https://media6.ppl-media.com/tr:h-235,w-235,c-...</td>\n",
       "      <td>NaN</td>\n",
       "      <td>Nails</td>\n",
       "      <td>Nail Polish</td>\n",
       "      <td>Nail Polish</td>\n",
       "      <td>59</td>\n",
       "      <td>59</td>\n",
       "      <td>color dose</td>\n",
       "      <td>women</td>\n",
       "    </tr>\n",
       "    <tr>\n",
       "      <th>4</th>\n",
       "      <td>A5E51E0F6C9929ECD16D875EC9A4AFA5</td>\n",
       "      <td>SUGAR Tip Tac Toe Nail Lacquer - 032 Mary Popp...</td>\n",
       "      <td>https://media6.ppl-media.com/tr:h-750,w-750,c-...</td>\n",
       "      <td>Makeup</td>\n",
       "      <td>Nails</td>\n",
       "      <td>Nail Polish</td>\n",
       "      <td>Nail Polish</td>\n",
       "      <td>237</td>\n",
       "      <td>249</td>\n",
       "      <td>Sugar</td>\n",
       "      <td>women</td>\n",
       "    </tr>\n",
       "  </tbody>\n",
       "</table>\n",
       "</div>"
      ],
      "text/plain": [
       "                          ProductId  \\\n",
       "0  E8AC41D107EA5DBB5DF561A684899B38   \n",
       "1  04AE770377AABCCBCCDD5FBC93CC83E1   \n",
       "2  21B0CF144B3CFFDDCCE4937C7731A7CE   \n",
       "3  129CE0C7596D2D346E5CDC54E55A3A67   \n",
       "4  A5E51E0F6C9929ECD16D875EC9A4AFA5   \n",
       "\n",
       "                                               Title  \\\n",
       "0            Color Dose Pearls Bronze 59 Nail Polish   \n",
       "1     Rimmel Space Dust Nail Polish - Luna Love #004   \n",
       "2       Color Dose Pearls Copper Rust 58 Nail Polish   \n",
       "3                Color Dose Matt Nude 25 Nail Polish   \n",
       "4  SUGAR Tip Tac Toe Nail Lacquer - 032 Mary Popp...   \n",
       "\n",
       "                                           Image URL Division Category  \\\n",
       "0  https://media6.ppl-media.com/tr:h-750,w-750,c-...   Makeup    Nails   \n",
       "1  https://media6.ppl-media.com/tr:h-750,w-750,c-...   Makeup    Nails   \n",
       "2  https://media6.ppl-media.com/tr:h-750,w-750,c-...   Makeup    Nails   \n",
       "3  https://media6.ppl-media.com/tr:h-235,w-235,c-...      NaN    Nails   \n",
       "4  https://media6.ppl-media.com/tr:h-750,w-750,c-...   Makeup    Nails   \n",
       "\n",
       "  Sub category Article type  Offer price  Sale price       Color Gender  \n",
       "0  Nail Polish  Nail Polish           59          59  Color Dose  women  \n",
       "1  Nail Polish  Nail Polish          310         310      Rimmel  women  \n",
       "2  Nail Polish  Nail Polish           59          59  Color Dose  women  \n",
       "3  Nail Polish  Nail Polish           59          59  color dose  women  \n",
       "4  Nail Polish  Nail Polish          237         249       Sugar  women  "
      ]
     },
     "execution_count": 30,
     "metadata": {},
     "output_type": "execute_result"
    }
   ],
   "source": [
    "dataframe = pd.read_excel('products.xlsx')\n",
    "\n",
    "dataframe = pd.DataFrame(dataframe)\n",
    "dataframe.head()"
   ]
  },
  {
   "cell_type": "code",
   "execution_count": 31,
   "metadata": {},
   "outputs": [],
   "source": [
    "dataframe = dataframe.fillna(' ')"
   ]
  },
  {
   "cell_type": "markdown",
   "metadata": {},
   "source": [
    "#### Creating Bag of Words"
   ]
  },
  {
   "cell_type": "code",
   "execution_count": 32,
   "metadata": {},
   "outputs": [],
   "source": [
    "dataframe['bag_of_words'] =dataframe[\"Division\"] + dataframe[\"Category\"] + dataframe[\"Sub category\"] + dataframe[\"Gender\"] "
   ]
  },
  {
   "cell_type": "code",
   "execution_count": 33,
   "metadata": {},
   "outputs": [
    {
     "data": {
      "text/html": [
       "<div>\n",
       "<style scoped>\n",
       "    .dataframe tbody tr th:only-of-type {\n",
       "        vertical-align: middle;\n",
       "    }\n",
       "\n",
       "    .dataframe tbody tr th {\n",
       "        vertical-align: top;\n",
       "    }\n",
       "\n",
       "    .dataframe thead th {\n",
       "        text-align: right;\n",
       "    }\n",
       "</style>\n",
       "<table border=\"1\" class=\"dataframe\">\n",
       "  <thead>\n",
       "    <tr style=\"text-align: right;\">\n",
       "      <th></th>\n",
       "      <th>ProductId</th>\n",
       "      <th>bag_of_words</th>\n",
       "      <th>Title</th>\n",
       "    </tr>\n",
       "  </thead>\n",
       "  <tbody>\n",
       "    <tr>\n",
       "      <th>0</th>\n",
       "      <td>E8AC41D107EA5DBB5DF561A684899B38</td>\n",
       "      <td>MakeupNailsNail Polishwomen</td>\n",
       "      <td>Color Dose Pearls Bronze 59 Nail Polish</td>\n",
       "    </tr>\n",
       "    <tr>\n",
       "      <th>1</th>\n",
       "      <td>04AE770377AABCCBCCDD5FBC93CC83E1</td>\n",
       "      <td>MakeupNailsNail Polishwomen</td>\n",
       "      <td>Rimmel Space Dust Nail Polish - Luna Love #004</td>\n",
       "    </tr>\n",
       "    <tr>\n",
       "      <th>2</th>\n",
       "      <td>21B0CF144B3CFFDDCCE4937C7731A7CE</td>\n",
       "      <td>MakeupNailsNail Polishwomen</td>\n",
       "      <td>Color Dose Pearls Copper Rust 58 Nail Polish</td>\n",
       "    </tr>\n",
       "    <tr>\n",
       "      <th>3</th>\n",
       "      <td>129CE0C7596D2D346E5CDC54E55A3A67</td>\n",
       "      <td>NailsNail Polishwomen</td>\n",
       "      <td>Color Dose Matt Nude 25 Nail Polish</td>\n",
       "    </tr>\n",
       "    <tr>\n",
       "      <th>4</th>\n",
       "      <td>A5E51E0F6C9929ECD16D875EC9A4AFA5</td>\n",
       "      <td>MakeupNailsNail Polishwomen</td>\n",
       "      <td>SUGAR Tip Tac Toe Nail Lacquer - 032 Mary Popp...</td>\n",
       "    </tr>\n",
       "  </tbody>\n",
       "</table>\n",
       "</div>"
      ],
      "text/plain": [
       "                          ProductId                 bag_of_words  \\\n",
       "0  E8AC41D107EA5DBB5DF561A684899B38  MakeupNailsNail Polishwomen   \n",
       "1  04AE770377AABCCBCCDD5FBC93CC83E1  MakeupNailsNail Polishwomen   \n",
       "2  21B0CF144B3CFFDDCCE4937C7731A7CE  MakeupNailsNail Polishwomen   \n",
       "3  129CE0C7596D2D346E5CDC54E55A3A67        NailsNail Polishwomen   \n",
       "4  A5E51E0F6C9929ECD16D875EC9A4AFA5  MakeupNailsNail Polishwomen   \n",
       "\n",
       "                                               Title  \n",
       "0            Color Dose Pearls Bronze 59 Nail Polish  \n",
       "1     Rimmel Space Dust Nail Polish - Luna Love #004  \n",
       "2       Color Dose Pearls Copper Rust 58 Nail Polish  \n",
       "3                Color Dose Matt Nude 25 Nail Polish  \n",
       "4  SUGAR Tip Tac Toe Nail Lacquer - 032 Mary Popp...  "
      ]
     },
     "execution_count": 33,
     "metadata": {},
     "output_type": "execute_result"
    }
   ],
   "source": [
    "dataframe = dataframe[[\"ProductId\", \"bag_of_words\",\"Title\"]]\n",
    "dataframe.head()"
   ]
  },
  {
   "cell_type": "code",
   "execution_count": 34,
   "metadata": {},
   "outputs": [
    {
     "data": {
      "text/html": [
       "<div>\n",
       "<style scoped>\n",
       "    .dataframe tbody tr th:only-of-type {\n",
       "        vertical-align: middle;\n",
       "    }\n",
       "\n",
       "    .dataframe tbody tr th {\n",
       "        vertical-align: top;\n",
       "    }\n",
       "\n",
       "    .dataframe thead th {\n",
       "        text-align: right;\n",
       "    }\n",
       "</style>\n",
       "<table border=\"1\" class=\"dataframe\">\n",
       "  <thead>\n",
       "    <tr style=\"text-align: right;\">\n",
       "      <th></th>\n",
       "      <th>bag_of_words</th>\n",
       "      <th>Title</th>\n",
       "    </tr>\n",
       "    <tr>\n",
       "      <th>ProductId</th>\n",
       "      <th></th>\n",
       "      <th></th>\n",
       "    </tr>\n",
       "  </thead>\n",
       "  <tbody>\n",
       "    <tr>\n",
       "      <th>E8AC41D107EA5DBB5DF561A684899B38</th>\n",
       "      <td>MakeupNailsNail Polishwomen</td>\n",
       "      <td>Color Dose Pearls Bronze 59 Nail Polish</td>\n",
       "    </tr>\n",
       "    <tr>\n",
       "      <th>04AE770377AABCCBCCDD5FBC93CC83E1</th>\n",
       "      <td>MakeupNailsNail Polishwomen</td>\n",
       "      <td>Rimmel Space Dust Nail Polish - Luna Love #004</td>\n",
       "    </tr>\n",
       "    <tr>\n",
       "      <th>21B0CF144B3CFFDDCCE4937C7731A7CE</th>\n",
       "      <td>MakeupNailsNail Polishwomen</td>\n",
       "      <td>Color Dose Pearls Copper Rust 58 Nail Polish</td>\n",
       "    </tr>\n",
       "    <tr>\n",
       "      <th>129CE0C7596D2D346E5CDC54E55A3A67</th>\n",
       "      <td>NailsNail Polishwomen</td>\n",
       "      <td>Color Dose Matt Nude 25 Nail Polish</td>\n",
       "    </tr>\n",
       "    <tr>\n",
       "      <th>A5E51E0F6C9929ECD16D875EC9A4AFA5</th>\n",
       "      <td>MakeupNailsNail Polishwomen</td>\n",
       "      <td>SUGAR Tip Tac Toe Nail Lacquer - 032 Mary Popp...</td>\n",
       "    </tr>\n",
       "  </tbody>\n",
       "</table>\n",
       "</div>"
      ],
      "text/plain": [
       "                                                 bag_of_words  \\\n",
       "ProductId                                                       \n",
       "E8AC41D107EA5DBB5DF561A684899B38  MakeupNailsNail Polishwomen   \n",
       "04AE770377AABCCBCCDD5FBC93CC83E1  MakeupNailsNail Polishwomen   \n",
       "21B0CF144B3CFFDDCCE4937C7731A7CE  MakeupNailsNail Polishwomen   \n",
       "129CE0C7596D2D346E5CDC54E55A3A67        NailsNail Polishwomen   \n",
       "A5E51E0F6C9929ECD16D875EC9A4AFA5  MakeupNailsNail Polishwomen   \n",
       "\n",
       "                                                                              Title  \n",
       "ProductId                                                                            \n",
       "E8AC41D107EA5DBB5DF561A684899B38            Color Dose Pearls Bronze 59 Nail Polish  \n",
       "04AE770377AABCCBCCDD5FBC93CC83E1     Rimmel Space Dust Nail Polish - Luna Love #004  \n",
       "21B0CF144B3CFFDDCCE4937C7731A7CE       Color Dose Pearls Copper Rust 58 Nail Polish  \n",
       "129CE0C7596D2D346E5CDC54E55A3A67                Color Dose Matt Nude 25 Nail Polish  \n",
       "A5E51E0F6C9929ECD16D875EC9A4AFA5  SUGAR Tip Tac Toe Nail Lacquer - 032 Mary Popp...  "
      ]
     },
     "execution_count": 34,
     "metadata": {},
     "output_type": "execute_result"
    }
   ],
   "source": [
    "dataframe.set_index('ProductId', inplace = True)\n",
    "dataframe.head()"
   ]
  },
  {
   "cell_type": "markdown",
   "metadata": {},
   "source": [
    "#### Generating the count vectorizer matrix"
   ]
  },
  {
   "cell_type": "code",
   "execution_count": null,
   "metadata": {},
   "outputs": [],
   "source": [
    "count = CountVectorizer()\n",
    "count_matrix = count.fit_transform(dataframe['bag_of_words'])\n",
    "\n",
    "# Creating ordered Series\n",
    "# list to be used later for index matching\n",
    "indices = pd.Series(dataframe.index)\n",
    "indices[:5]"
   ]
  },
  {
   "cell_type": "markdown",
   "metadata": {},
   "source": [
    "#### Generating the cosine similarity matrix"
   ]
  },
  {
   "cell_type": "code",
   "execution_count": 36,
   "metadata": {},
   "outputs": [
    {
     "data": {
      "text/plain": [
       "array([[1., 1., 1., ..., 0., 0., 0.],\n",
       "       [1., 1., 1., ..., 0., 0., 0.],\n",
       "       [1., 1., 1., ..., 0., 0., 0.],\n",
       "       ...,\n",
       "       [0., 0., 0., ..., 1., 1., 1.],\n",
       "       [0., 0., 0., ..., 1., 1., 1.],\n",
       "       [0., 0., 0., ..., 1., 1., 1.]])"
      ]
     },
     "execution_count": 36,
     "metadata": {},
     "output_type": "execute_result"
    }
   ],
   "source": [
    "cosine_sim = cosine_similarity(count_matrix, count_matrix)\n",
    "cosine_sim"
   ]
  },
  {
   "cell_type": "code",
   "execution_count": 37,
   "metadata": {},
   "outputs": [],
   "source": [
    "# Associating product ids with ordered numerical values\n",
    "# function will be used to match indices\n",
    "indices = pd.Series(dataframe.index)\n",
    "\n",
    "#  defining the function that takes in userid \n",
    "# as input and returns the top 10 recommendations\n",
    "def recommendations(productId, cosine_sim = cosine_sim):\n",
    "    \n",
    "    # initializing the empty list of recommended products\n",
    "    recommended_products = []\n",
    "    \n",
    "    # gettin the index of the product that matches the productId\n",
    "    idx = indices[indices == productId].index[0]\n",
    "\n",
    "    # creating a Series with the similarity scores in descending order\n",
    "    score_series = pd.Series(cosine_sim[idx]).sort_values(ascending = False)\n",
    "\n",
    "    # getting the indices of the 10 most similar products\n",
    "    top_10_indexes = list(score_series.iloc[1:11].index)\n",
    "    \n",
    "    # populating the list with the titles of the best 10 matching products\n",
    "    for i in top_10_indexes:\n",
    "        recommended_products.append(list(dataframe.Title)[i])\n",
    "        \n",
    "    return recommended_products"
   ]
  },
  {
   "cell_type": "markdown",
   "metadata": {},
   "source": [
    "#### Output"
   ]
  },
  {
   "cell_type": "code",
   "execution_count": 38,
   "metadata": {},
   "outputs": [
    {
     "data": {
      "text/plain": [
       "['Stay Quirky Nail Polish, Matte Finish, Pastel - Matt-nificent 1079 (6 ml)',\n",
       " 'Sally Hansen Triple Shine Nail - Pixie Slicks #200 (10 ml)',\n",
       " 'SUGAR Tip Tac Toe Nail Lacquer - 004 Mauve Mountains (Dusty Pink)',\n",
       " 'Avon Nailpaint True Color Nwp+ Golden Wine (8 ml)',\n",
       " 'Stay Quirky Nail Polish, Mauve - Owned 263 (6 ml)',\n",
       " 'Sally Hansen Sugar Coat Textured Nail Color - Sweetie #400',\n",
       " 'Faces Magnetix Nail Lacquer Silver Charm 9 5 ml Diagonal Pattern',\n",
       " 'Rimmel Lycra Pro Professional Finish - Celebrity Bash #391',\n",
       " 'Modelones Temperature Change Color Thermal Gel Polish UV Led Nail Gel Polish Soak off UV Gel Nail Polish Chameleon Varnish (#5756) (10 ml)',\n",
       " 'Yves Rocher Nail Polish Peony 33 (5 ml)']"
      ]
     },
     "execution_count": 38,
     "metadata": {},
     "output_type": "execute_result"
    }
   ],
   "source": [
    "recommendations('E8AC41D107EA5DBB5DF561A684899B38')"
   ]
  },
  {
   "cell_type": "code",
   "execution_count": 39,
   "metadata": {},
   "outputs": [
    {
     "data": {
      "text/plain": [
       "[\"Stay Quirky Nail Polish, It'S Pinke 466 (6 ml)\",\n",
       " 'Teen Beauty Wow Factor ! Matte Nail Paints Combo Pack Of Two (9 ml + 9 ml)',\n",
       " 'LYN Live Your Now Nail Polish In the Nude to Party (8 ml)',\n",
       " 'Stay Quirky Nail Polish, Maroon Mod 113 (6 ml)',\n",
       " 'Teen Beauty Matte Nail Polish Hot Chocolate (9 ml)',\n",
       " 'Stay Quirky Nail Polish, Pink-Iness 403 (6 ml)',\n",
       " 'Eylina Ultra Hd Nail Polish Melon Red NP004 (9 ml)',\n",
       " 'Stay Quirky Nail Polish, Hitched To Red 218 (6 ml)',\n",
       " 'Avon Color Nailwear Pro Plus Sizzling Red (8 ml)',\n",
       " 'Teen Beauty Breezy Feelings ! Matte Nail Paints Combo Pack Of Two (9 ml + 9 ml)']"
      ]
     },
     "execution_count": 39,
     "metadata": {},
     "output_type": "execute_result"
    }
   ],
   "source": [
    "recommendations('129CE0C7596D2D346E5CDC54E55A3A67')"
   ]
  },
  {
   "cell_type": "code",
   "execution_count": null,
   "metadata": {},
   "outputs": [],
   "source": []
  }
 ],
 "metadata": {
  "kernelspec": {
   "display_name": "Python 3",
   "language": "python",
   "name": "python3"
  },
  "language_info": {
   "codemirror_mode": {
    "name": "ipython",
    "version": 3
   },
   "file_extension": ".py",
   "mimetype": "text/x-python",
   "name": "python",
   "nbconvert_exporter": "python",
   "pygments_lexer": "ipython3",
   "version": "3.6.5"
  }
 },
 "nbformat": 4,
 "nbformat_minor": 2
}
